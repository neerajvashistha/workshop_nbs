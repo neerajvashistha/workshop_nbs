{
  "cells": [
    {
      "metadata": {
        "_uuid": "110daa47b06bf4e5708a00e7f5dd04b8194a8d5c"
      },
      "cell_type": "markdown",
      "source": "**[Machine Learning Explainability Course Home Page](https://www.kaggle.com/learn/machine-learning-explainability)**\n\n---\n"
    },
    {
      "metadata": {
        "_uuid": "20f66d0be918efdc1cea6980420298f04c48d26b"
      },
      "cell_type": "markdown",
      "source": "# Intro\n\nYou've seen (and used) techniques to extract general insights from a machine learning model. But what if you want to break down how the model works for an individual prediction?\n\nSHAP Values (an acronym from SHapley Additive exPlanations) break down a prediction to show the impact of each feature. Where could you use this?\n\n- A model says a bank shouldn't loan someone money, and the bank is legally required to explain the basis for each loan rejection\n- A healthcare provider wants to identify what factors are driving each patient's risk of some disease so they can directly address those risk factors with targeted health interventions\n\nYou'll use SHAP Values to explain individual predictions in this lesson. In the next lesson, you'll see how these can be aggregated into powerful model-level insights.\n\n# How They Work\nSHAP values interpret the impact of having a certain value for a given feature in comparison to the prediction we'd make if that feature took some baseline value.\n\nAn example is helpful, and we'll continue the soccer/football example from the [permutation importance](https://www.kaggle.com/dansbecker/permutation-importance) and [partial dependence plots](https://www.kaggle.com/dansbecker/partial-plots) lessons.\n\n\nIn these tutorials, we predicted whether a team would have a player win the *Man of the Game* award.\n\nWe could ask:\n- How much was a prediction driven by the fact that the team scored 3 goals?\n    \nBut it's easier to give a concrete, numeric answer if we restate this as:\n- How much was a prediction driven by the fact that the team scored 3 goals, **instead of some baseline number of goals.**\n\nOf course, each team has many features. So if we answer this question for `number of goals`, we could repeat the process for all other features.\n\nSHAP values do this in a way that guarantees a nice property. When we make a prediction\n\n```sum(SHAP values for all features) = pred_for_team - pred_for_baseline_values```\n\nThat is, the SHAP values of all features sum up to explain why my prediction was different from the baseline. This allows us to decompose a prediction in a graph like this:\n\n![Imgur](https://i.imgur.com/JVD2U7k.png)\n\n*If you want a larger view of this graph, [here is a link](https://i.imgur.com/JVD2U7k.png)*"
    },
    {
      "metadata": {
        "_uuid": "d86f4b428fe115f339376e917d4c77237c74b474"
      },
      "cell_type": "markdown",
      "source": "\nHow do you interpret this?\n\nWe predicted 0.7, whereas the base_value is 0.4979.  Feature values causing increased predictions are in pink, and their visual size shows the magnitude of the feature's effect.  Feature values decreasing the prediction are in blue.  The biggest impact comes from `Goal Scored` being 2.  Though the ball possession value has a meaningful effect decreasing the prediction.\n\nIf you subtract the length of the blue bars from the length of the pink bars, it equals the distance from the base value to the output.\n\nThere is some complexity to the technique, to ensure that the baseline plus the sum of individual effects adds up to the prediction (which isn't as straightforward as it sounds.) We won't go into that detail here, since it isn't critical for using the technique. [This blog post](https://towardsdatascience.com/one-feature-attribution-method-to-supposedly-rule-them-all-shapley-values-f3e04534983d) has a longer theoretical explanation.\n\n# Code to Calculate SHAP Values\nWe calculate SHAP values using the wonderful [Shap](https://github.com/slundberg/shap) library.\n\nFor this example, we'll reuse the model you've already seen with the Soccer data."
    },
    {
      "metadata": {
        "_uuid": "5d6eb96645d443d987a7dc3e6c93bf1103cea08b",
        "trusted": false
      },
      "cell_type": "code",
      "source": "import numpy as np\nimport pandas as pd\nfrom sklearn.model_selection import train_test_split\nfrom sklearn.ensemble import RandomForestClassifier\n\ndata = pd.read_csv('../input/fifa-2018-match-statistics/FIFA 2018 Statistics.csv')\ny = (data['Man of the Match'] == \"Yes\")  # Convert from string \"Yes\"/\"No\" to binary\nfeature_names = [i for i in data.columns if data[i].dtype in [np.int64, np.int64]]\nX = data[feature_names]\ntrain_X, val_X, train_y, val_y = train_test_split(X, y, random_state=1)\nmy_model = RandomForestClassifier(random_state=0).fit(train_X, train_y)",
      "execution_count": null,
      "outputs": []
    },
    {
      "metadata": {
        "_uuid": "92f8adfc426df53eed1e5ef960497c231db29838"
      },
      "cell_type": "markdown",
      "source": "We will look at SHAP values for a single row of the dataset (we arbitrarily chose row 5). For context, we'll look at the raw predictions before looking at the SHAP values"
    },
    {
      "metadata": {
        "_uuid": "1710eb59551a052073bfd58e9b86a1e2eb40cb6d",
        "trusted": false
      },
      "cell_type": "code",
      "source": "row_to_show = 5\ndata_for_prediction = val_X.iloc[row_to_show]  # use 1 row of data here. Could use multiple rows if desired\ndata_for_prediction_array = data_for_prediction.values.reshape(1, -1)\n\n\nmy_model.predict_proba(data_for_prediction_array)",
      "execution_count": null,
      "outputs": []
    },
    {
      "metadata": {
        "_uuid": "5e95a38320c0077b6a21f37a4910d68eabf15236"
      },
      "cell_type": "markdown",
      "source": "The team is 70% likely to have a player win the award. \n\nNow, we'll move onto the code to get SHAP values for that single prediction."
    },
    {
      "metadata": {
        "_uuid": "5eac59d9b699a86b719fe3f9b48e9b29002eafc2",
        "trusted": false
      },
      "cell_type": "code",
      "source": "import shap  # package used to calculate Shap values\n\n# Create object that can calculate shap values\nexplainer = shap.TreeExplainer(my_model)\n\n# Calculate Shap values\nshap_values = explainer.shap_values(data_for_prediction)",
      "execution_count": null,
      "outputs": []
    },
    {
      "metadata": {
        "_uuid": "972bba266e2b192a3ff55485a326e541eeef7287"
      },
      "cell_type": "markdown",
      "source": "The `shap_values` object above is a list with two arrays. The first array is the SHAP values for a negative outcome (don't win the award), and the second array is the list of SHAP values for the positive outcome (wins the award). We typically think about predictions in terms of the prediction of a positive outcome, so we'll pull out Shap values for positive outcomes (pulling out `shap_values[1]`.)\n\nIt's cumbersome to review raw arrays, but the shap package has a nice way to visualize the results. "
    },
    {
      "metadata": {
        "_uuid": "41868e2e44ca0b87aad9636de2a03a523966652e",
        "trusted": false
      },
      "cell_type": "code",
      "source": "shap.initjs()\nshap.force_plot(explainer.expected_value[1], shap_values[1], data_for_prediction)",
      "execution_count": null,
      "outputs": []
    },
    {
      "metadata": {
        "_uuid": "f70d53b2609808cb862e2d2e4c4cd39958022675"
      },
      "cell_type": "markdown",
      "source": "If you look carefully at the code where we created the SHAP values, you'll notice we reference Trees in `shap.TreeExplainer(my_model)`.  But the SHAP package has explainers for every type of model.\n\n- `shap.DeepExplainer` works with Deep Learning models. \n- `shap.KernelExplainer` works with all models, though it is slower than other Explainers and it offers an approximation rather than exact Shap values.\n\nHere is an example using KernelExplainer to get similar results. The results aren't identical because `kernelExplainer` gives an approximate result. But the results tell the same story."
    },
    {
      "metadata": {
        "_uuid": "c8dac9dc47aac0165ce33d510bec46190be03ffd",
        "trusted": false
      },
      "cell_type": "code",
      "source": "# use Kernel SHAP to explain test set predictions\nk_explainer = shap.KernelExplainer(my_model.predict_proba, train_X)\nk_shap_values = k_explainer.shap_values(data_for_prediction)\nshap.force_plot(k_explainer.expected_value[1], k_shap_values[1], data_for_prediction)",
      "execution_count": null,
      "outputs": []
    },
    {
      "metadata": {
        "_uuid": "52b14b1bbba8bbf4dc4279ef04dbd79f2de51852"
      },
      "cell_type": "markdown",
      "source": "# Your Turn\nSHAP values are awesome. Have fun applying them, alongside the other tools you've learned, to **[solve a full data-science scenario](https://www.kaggle.com/kernels/fork/1637226)**"
    },
    {
      "metadata": {
        "_uuid": "f2a45b0cc9d7aeb37d5bce4e32a3d40e0d42d847"
      },
      "cell_type": "markdown",
      "source": "---\n**[Machine Learning Explainability Course Home Page](https://www.kaggle.com/learn/machine-learning-explainability)**\n\n"
    }
  ],
  "metadata": {
    "kernelspec": {
      "display_name": "Python 3",
      "language": "python",
      "name": "python3"
    },
    "language_info": {
      "name": "python",
      "version": "3.6.6",
      "mimetype": "text/x-python",
      "codemirror_mode": {
        "name": "ipython",
        "version": 3
      },
      "pygments_lexer": "ipython3",
      "nbconvert_exporter": "python",
      "file_extension": ".py"
    }
  },
  "nbformat": 4,
  "nbformat_minor": 1
}